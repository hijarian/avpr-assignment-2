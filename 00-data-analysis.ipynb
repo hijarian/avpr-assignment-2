{
 "cells": [
  {
   "cell_type": "markdown",
   "metadata": {},
   "source": [
    "# Input data analysis\n",
    "\n",
    "Here we get some stats on the input dataset to understand the shape of the data.\n",
    "\n",
    "We are interested in the sizes of images and their mean/std stats to help with normalization."
   ]
  },
  {
   "cell_type": "code",
   "execution_count": 1,
   "metadata": {},
   "outputs": [],
   "source": [
    "from PIL import Image, ImageDraw\n",
    "import numpy as np\n",
    "import os\n",
    "import xml.etree.ElementTree as ET"
   ]
  },
  {
   "cell_type": "code",
   "execution_count": 2,
   "metadata": {},
   "outputs": [
    {
     "name": "stdout",
     "output_type": "stream",
     "text": [
      "Max Width: 997, Max Height: 965\n",
      "Min Width: 200, Min Height: 200\n",
      "Average Width: 424.82364666386906, Average Height: 396.36372219890893\n",
      "Median Width: 400.0, Median Height: 400.0\n",
      "Mean: [119.40268332 112.331025   102.14789407], Std: [63.13785612 61.05932064 61.90802032]\n"
     ]
    }
   ],
   "source": [
    "from my_paths import images_path as source_path\n",
    "\n",
    "# enumerate all images\n",
    "# collect the following statistics:\n",
    "# max width, max height, min width, min height, average width, average height\n",
    "# median width, median height\n",
    "# for every channel in RGB, collect the mean and std for the normalization later\n",
    "\n",
    "# Initialize variables to collect statistics\n",
    "widths = []\n",
    "heights = []\n",
    "\n",
    "# for every channel in RGB, collect the mean and std for the normalization later\n",
    "mean = np.zeros(3)\n",
    "std = np.zeros(3)\n",
    "\n",
    "# Iterate through all images in the source path\n",
    "for filename in os.listdir(source_path):\n",
    "    if filename.endswith('.jpg') or filename.endswith('.png'):\n",
    "        with Image.open(os.path.join(source_path, filename)) as img:\n",
    "            width, height = img.size\n",
    "            widths.append(width)\n",
    "            heights.append(height)\n",
    "            img = np.array(img)\n",
    "            mean += np.mean(img, axis=(0, 1))\n",
    "            std += np.std(img, axis=(0, 1))\n",
    "\n",
    "mean /= len(widths)\n",
    "std /= len(widths)\n",
    "\n",
    "# Calculate statistics\n",
    "max_width = np.max(widths)\n",
    "max_height = np.max(heights)\n",
    "min_width = np.min(widths)\n",
    "min_height = np.min(heights)\n",
    "avg_width = np.mean(widths)\n",
    "avg_height = np.mean(heights)\n",
    "median_width = np.median(widths)\n",
    "median_height = np.median(heights)\n",
    "\n",
    "print(f\"Max Width: {max_width}, Max Height: {max_height}\")\n",
    "print(f\"Min Width: {min_width}, Min Height: {min_height}\")\n",
    "print(f\"Average Width: {avg_width}, Average Height: {avg_height}\")\n",
    "print(f\"Median Width: {median_width}, Median Height: {median_height}\")\n",
    "print(f\"Mean: {mean}, Std: {std}\")\n",
    "\n"
   ]
  },
  {
   "cell_type": "code",
   "execution_count": 3,
   "metadata": {},
   "outputs": [
    {
     "name": "stdout",
     "output_type": "stream",
     "text": [
      "Mean: [0.46824582 0.44051382 0.40057998], Std: [0.24759944 0.23944832 0.24277655]\n"
     ]
    }
   ],
   "source": [
    "# Mean: [119.40268332 112.331025   102.14789407], Std: [63.13785612 61.05932064 61.90802032]\n",
    "# scale it to 0...1 range\n",
    "\n",
    "mean /= 255\n",
    "std /= 255\n",
    "\n",
    "print(f\"Mean: {mean}, Std: {std}\")"
   ]
  }
 ],
 "metadata": {
  "kernelspec": {
   "display_name": "avpr",
   "language": "python",
   "name": "python3"
  },
  "language_info": {
   "codemirror_mode": {
    "name": "ipython",
    "version": 3
   },
   "file_extension": ".py",
   "mimetype": "text/x-python",
   "name": "python",
   "nbconvert_exporter": "python",
   "pygments_lexer": "ipython3",
   "version": "3.12.8"
  }
 },
 "nbformat": 4,
 "nbformat_minor": 2
}
