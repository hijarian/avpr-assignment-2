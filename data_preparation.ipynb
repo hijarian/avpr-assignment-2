{
 "cells": [
  {
   "cell_type": "code",
   "execution_count": 11,
   "metadata": {},
   "outputs": [],
   "source": [
    "from PIL import Image, ImageDraw\n",
    "import numpy as np\n",
    "import os\n",
    "import xml.etree.ElementTree as ET"
   ]
  },
  {
   "cell_type": "code",
   "execution_count": null,
   "metadata": {},
   "outputs": [],
   "source": [
    "\n",
    "source_path = 'Stanford40/JPEGImages/'\n",
    "\n",
    "# enumerate all images\n",
    "# collect the following statistics:\n",
    "# max width, max height, min width, min height, average width, average height\n",
    "# median width, median height\n",
    "# for every channel in RGB, collect the mean and std for the normalization later\n",
    "\n",
    "# Initialize variables to collect statistics\n",
    "widths = []\n",
    "heights = []\n",
    "\n",
    "# for every channel in RGB, collect the mean and std for the normalization later\n",
    "mean = np.zeros(3)\n",
    "std = np.zeros(3)\n",
    "\n",
    "# Iterate through all images in the source path\n",
    "for filename in os.listdir(source_path):\n",
    "    if filename.endswith('.jpg') or filename.endswith('.png'):\n",
    "        with Image.open(os.path.join(source_path, filename)) as img:\n",
    "            width, height = img.size\n",
    "            widths.append(width)\n",
    "            heights.append(height)\n",
    "            img = np.array(img)\n",
    "            mean += np.mean(img, axis=(0, 1))\n",
    "            std += np.std(img, axis=(0, 1))\n",
    "\n",
    "mean /= len(widths)\n",
    "std /= len(widths)\n",
    "\n",
    "# Calculate statistics\n",
    "max_width = np.max(widths)\n",
    "max_height = np.max(heights)\n",
    "min_width = np.min(widths)\n",
    "min_height = np.min(heights)\n",
    "avg_width = np.mean(widths)\n",
    "avg_height = np.mean(heights)\n",
    "median_width = np.median(widths)\n",
    "median_height = np.median(heights)\n",
    "\n",
    "print(f\"Max Width: {max_width}, Max Height: {max_height}\")\n",
    "print(f\"Min Width: {min_width}, Min Height: {min_height}\")\n",
    "print(f\"Average Width: {avg_width}, Average Height: {avg_height}\")\n",
    "print(f\"Median Width: {median_width}, Median Height: {median_height}\")\n",
    "print(f\"Mean: {mean}, Std: {std}\")\n",
    "\n"
   ]
  },
  {
   "cell_type": "code",
   "execution_count": 5,
   "metadata": {},
   "outputs": [
    {
     "name": "stdout",
     "output_type": "stream",
     "text": [
      "Mean: [0.46824582 0.44051382 0.40057998], Std: [0.24759944 0.23944832 0.24277655]\n"
     ]
    }
   ],
   "source": [
    "# Mean: [119.40268332 112.331025   102.14789407], Std: [63.13785612 61.05932064 61.90802032]\n",
    "# scale it to 0...1 range\n",
    "\n",
    "mean /= 255\n",
    "std /= 255\n",
    "\n",
    "print(f\"Mean: {mean}, Std: {std}\")"
   ]
  },
  {
   "cell_type": "code",
   "execution_count": 7,
   "metadata": {},
   "outputs": [],
   "source": [
    "dataset_path = 'C:/Users/lootman/Загрузки/data/'\n",
    "images_path = os.path.join(dataset_path, 'JPEGImages')\n",
    "annotations_path = os.path.join(dataset_path, 'XMLAnnotations')\n",
    "bitmask_path = os.path.join(dataset_path, 'Bitmasks')"
   ]
  },
  {
   "cell_type": "code",
   "execution_count": 10,
   "metadata": {},
   "outputs": [],
   "source": [
    "def get_bounding_box(image_id):\n",
    "    xml_path = os.path.join(annotations_path, image_id + '.xml')\n",
    "    if os.path.exists(xml_path):\n",
    "        # Parse and print the contents of the XML file\n",
    "        tree = ET.parse(xml_path)\n",
    "        root = tree.getroot()\n",
    "        bbox = root.find('object/bndbox')\n",
    "\n",
    "        if bbox is None:\n",
    "            raise ValueError(f\"No bounding box found in {xml_path}\")\n",
    "\n",
    "        box = [\n",
    "            float(bbox.find('xmin').text),\n",
    "            float(bbox.find('ymin').text),\n",
    "            float(bbox.find('xmax').text),\n",
    "            float(bbox.find('ymax').text)\n",
    "        ]\n",
    "        size = root.find('size')\n",
    "        if size is None:\n",
    "            raise ValueError(f\"No size found in {xml_path}\")\n",
    "        if size.depth is None or size.depth.text != '3':\n",
    "            raise ValueError(f\"Image {image_id} is not a 3-channel image\")\n",
    "        \n",
    "        size = [\n",
    "            float(size.width.text),\n",
    "            float(size.height.text)\n",
    "        ]\n",
    "\n",
    "        return size, box\n",
    "    else:\n",
    "        print(f\"XML file for {image_id} not found at {xml_path}\")"
   ]
  },
  {
   "cell_type": "code",
   "execution_count": 13,
   "metadata": {},
   "outputs": [],
   "source": [
    "def create_bitmask(image_size, bbox):\n",
    "    \"\"\"\n",
    "    Create a bitmask for a given bounding box.\n",
    "    :param image_size: (width, height) of the image\n",
    "    :param bbox: (x_min, y_min, x_max, y_max) bounding box coordinates\n",
    "    :return: Bitmask as a tensor\n",
    "    \"\"\"\n",
    "    mask = Image.new('L', image_size, 0)  # Create a blank mask\n",
    "    draw = ImageDraw.Draw(mask)\n",
    "    draw.rectangle(bbox, fill=1)  # Fill the bounding box\n",
    "    return mask"
   ]
  }
 ],
 "metadata": {
  "kernelspec": {
   "display_name": "avpr",
   "language": "python",
   "name": "python3"
  },
  "language_info": {
   "codemirror_mode": {
    "name": "ipython",
    "version": 3
   },
   "file_extension": ".py",
   "mimetype": "text/x-python",
   "name": "python",
   "nbconvert_exporter": "python",
   "pygments_lexer": "ipython3",
   "version": "3.12.8"
  }
 },
 "nbformat": 4,
 "nbformat_minor": 2
}
