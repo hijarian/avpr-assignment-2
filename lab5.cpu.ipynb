{
 "cells": [
  {
   "cell_type": "markdown",
   "metadata": {},
   "source": [
    "# Lab 5"
   ]
  },
  {
   "cell_type": "markdown",
   "metadata": {},
   "source": [
    "## Import Libraries:\n",
    "\n",
    "First, import the necessary libraries:"
   ]
  },
  {
   "cell_type": "code",
   "execution_count": 1,
   "metadata": {},
   "outputs": [],
   "source": [
    "import torch\n",
    "import torch.nn as nn\n",
    "import torch.optim as optim\n",
    "import torchvision\n",
    "from torchvision import transforms, datasets"
   ]
  },
  {
   "cell_type": "markdown",
   "metadata": {},
   "source": [
    "## Prepare the Data:\n",
    "\n",
    "Download and prepare a dataset. For example, we can use the MNIST dataset for handwritten digit recognition:"
   ]
  },
  {
   "cell_type": "code",
   "execution_count": 2,
   "metadata": {},
   "outputs": [],
   "source": [
    "transform = transforms.Compose([\n",
    "    transforms.ToTensor(),\n",
    "    transforms.Normalize((0.5,), (0.5,))\n",
    "])\n",
    "\n",
    "train_data = datasets.MNIST(root='./data', train=True, download=True, transform=transform)\n",
    "test_data = datasets.MNIST(root='./data', train=False, download=True, transform=transform)\n",
    "\n",
    "train_loader = torch.utils.data.DataLoader(train_data, batch_size=64, shuffle=True)\n",
    "test_loader = torch.utils.data.DataLoader(test_data, batch_size=64, shuffle=False)"
   ]
  },
  {
   "cell_type": "markdown",
   "metadata": {},
   "source": [
    "## Create the CNN Model:\n",
    "\n",
    "Define your CNN architecture by creating a custom neural network class that inherits from nn.Module. Here's an example:"
   ]
  },
  {
   "cell_type": "code",
   "execution_count": 3,
   "metadata": {},
   "outputs": [],
   "source": [
    "class SimpleCNN(nn.Module):\n",
    "    def __init__(self):\n",
    "        super(SimpleCNN, self).__init__()\n",
    "        self.conv1 = nn.Conv2d(1, 32, kernel_size=3)\n",
    "        self.conv2 = nn.Conv2d(32, 64, kernel_size=3)\n",
    "        self.fc1 = nn.Linear(64 * 5 * 5, 128)\n",
    "        self.fc2 = nn.Linear(128, 10)\n",
    "    def forward(self, x):\n",
    "        x = nn.functional.relu(self.conv1(x))\n",
    "        x = nn.functional.max_pool2d(x, 2)\n",
    "        x = nn.functional.relu(self.conv2(x))\n",
    "        x = nn.functional.max_pool2d(x, 2)\n",
    "        x = x.view(-1, 64 * 5 * 5)\n",
    "        x = nn.functional.relu(self.fc1(x))\n",
    "        x = self.fc2(x)\n",
    "        return x"
   ]
  },
  {
   "cell_type": "markdown",
   "metadata": {},
   "source": [
    "## Instantiate the Model and Define Loss Function & Optimizer:\n",
    "\n",
    "Instantiate your CNN model and define the loss function and optimizer:"
   ]
  },
  {
   "cell_type": "code",
   "execution_count": 4,
   "metadata": {},
   "outputs": [],
   "source": [
    "model = SimpleCNN()\n",
    "criterion = nn.CrossEntropyLoss()\n",
    "optimizer = optim.Adam(model.parameters(), lr=0.001)"
   ]
  },
  {
   "cell_type": "markdown",
   "metadata": {},
   "source": [
    "## Training Loop:\n",
    "\n",
    "Train the model using the training data:"
   ]
  },
  {
   "cell_type": "code",
   "execution_count": 5,
   "metadata": {},
   "outputs": [
    {
     "name": "stdout",
     "output_type": "stream",
     "text": [
      "Epoch [1/5], Step [100/938], Loss: 0.6969\n",
      "Epoch [1/5], Step [200/938], Loss: 0.1616\n",
      "Epoch [1/5], Step [300/938], Loss: 0.1234\n",
      "Epoch [1/5], Step [400/938], Loss: 0.1059\n",
      "Epoch [1/5], Step [500/938], Loss: 0.0881\n",
      "Epoch [1/5], Step [600/938], Loss: 0.0772\n",
      "Epoch [1/5], Step [700/938], Loss: 0.0657\n",
      "Epoch [1/5], Step [800/938], Loss: 0.0728\n",
      "Epoch [1/5], Step [900/938], Loss: 0.0625\n",
      "Epoch [2/5], Step [100/938], Loss: 0.0541\n",
      "Epoch [2/5], Step [200/938], Loss: 0.0517\n",
      "Epoch [2/5], Step [300/938], Loss: 0.0466\n",
      "Epoch [2/5], Step [400/938], Loss: 0.0549\n",
      "Epoch [2/5], Step [500/938], Loss: 0.0371\n",
      "Epoch [2/5], Step [600/938], Loss: 0.0444\n",
      "Epoch [2/5], Step [700/938], Loss: 0.0454\n",
      "Epoch [2/5], Step [800/938], Loss: 0.0366\n",
      "Epoch [2/5], Step [900/938], Loss: 0.0354\n",
      "Epoch [3/5], Step [100/938], Loss: 0.0350\n",
      "Epoch [3/5], Step [200/938], Loss: 0.0284\n",
      "Epoch [3/5], Step [300/938], Loss: 0.0306\n",
      "Epoch [3/5], Step [400/938], Loss: 0.0290\n",
      "Epoch [3/5], Step [500/938], Loss: 0.0287\n",
      "Epoch [3/5], Step [600/938], Loss: 0.0356\n",
      "Epoch [3/5], Step [700/938], Loss: 0.0279\n",
      "Epoch [3/5], Step [800/938], Loss: 0.0307\n",
      "Epoch [3/5], Step [900/938], Loss: 0.0324\n",
      "Epoch [4/5], Step [100/938], Loss: 0.0180\n",
      "Epoch [4/5], Step [200/938], Loss: 0.0157\n",
      "Epoch [4/5], Step [300/938], Loss: 0.0254\n",
      "Epoch [4/5], Step [400/938], Loss: 0.0279\n",
      "Epoch [4/5], Step [500/938], Loss: 0.0238\n",
      "Epoch [4/5], Step [600/938], Loss: 0.0188\n",
      "Epoch [4/5], Step [700/938], Loss: 0.0242\n",
      "Epoch [4/5], Step [800/938], Loss: 0.0222\n",
      "Epoch [4/5], Step [900/938], Loss: 0.0296\n",
      "Epoch [5/5], Step [100/938], Loss: 0.0144\n",
      "Epoch [5/5], Step [200/938], Loss: 0.0129\n",
      "Epoch [5/5], Step [300/938], Loss: 0.0133\n",
      "Epoch [5/5], Step [400/938], Loss: 0.0145\n",
      "Epoch [5/5], Step [500/938], Loss: 0.0195\n",
      "Epoch [5/5], Step [600/938], Loss: 0.0139\n",
      "Epoch [5/5], Step [700/938], Loss: 0.0165\n",
      "Epoch [5/5], Step [800/938], Loss: 0.0211\n",
      "Epoch [5/5], Step [900/938], Loss: 0.0303\n"
     ]
    }
   ],
   "source": [
    "num_epochs = 5\n",
    "for epoch in range(num_epochs):\n",
    "    running_loss = 0.0\n",
    "    for i, data in enumerate(train_loader, 0):\n",
    "        inputs, labels = data\n",
    "        optimizer.zero_grad()\n",
    "        outputs = model(inputs)\n",
    "        loss = criterion(outputs, labels)\n",
    "        loss.backward()\n",
    "        optimizer.step()\n",
    "        running_loss += loss.item()\n",
    "        if i % 100 == 99:\n",
    "            print(f'Epoch [{epoch + 1}/{num_epochs}], '\n",
    "                  f'Step [{i + 1}/{len(train_loader)}], '\n",
    "                  f'Loss: {running_loss / 100:.4f}')\n",
    "            running_loss = 0.0"
   ]
  },
  {
   "cell_type": "markdown",
   "metadata": {},
   "source": [
    "1m 53.5s - CPU"
   ]
  },
  {
   "cell_type": "markdown",
   "metadata": {},
   "source": [
    "## Testing the Model:\n",
    "\n",
    "Evaluate the model using the test data:"
   ]
  },
  {
   "cell_type": "code",
   "execution_count": 6,
   "metadata": {},
   "outputs": [
    {
     "name": "stdout",
     "output_type": "stream",
     "text": [
      "Accuracy on the test set: 99.12%\n"
     ]
    }
   ],
   "source": [
    "correct = 0\n",
    "total = 0\n",
    "with torch.no_grad():\n",
    "    for data in test_loader:\n",
    "        inputs, labels = data\n",
    "        outputs = model(inputs)\n",
    "        _, predicted = torch.max(outputs.data, 1)\n",
    "        total += labels.size(0)\n",
    "        correct += (predicted == labels).sum().item()\n",
    "\n",
    "print(f'Accuracy on the test set: {(100 * correct / total):.2f}%')"
   ]
  },
  {
   "cell_type": "markdown",
   "metadata": {},
   "source": [
    "2.5s - CUDA"
   ]
  }
 ],
 "metadata": {
  "kernelspec": {
   "display_name": "avpr",
   "language": "python",
   "name": "python3"
  },
  "language_info": {
   "codemirror_mode": {
    "name": "ipython",
    "version": 3
   },
   "file_extension": ".py",
   "mimetype": "text/x-python",
   "name": "python",
   "nbconvert_exporter": "python",
   "pygments_lexer": "ipython3",
   "version": "3.12.8"
  }
 },
 "nbformat": 4,
 "nbformat_minor": 2
}
